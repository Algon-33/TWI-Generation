{
  "nbformat": 4,
  "nbformat_minor": 0,
  "metadata": {
    "colab": {
      "provenance": [],
      "include_colab_link": true
    },
    "kernelspec": {
      "name": "python3",
      "display_name": "Python 3"
    },
    "language_info": {
      "name": "python"
    },
    "widgets": {
      "application/vnd.jupyter.widget-state+json": {
        "01b16f72c8e24bf4970afbec903735ae": {
          "model_module": "@jupyter-widgets/controls",
          "model_name": "VBoxModel",
          "model_module_version": "1.5.0",
          "state": {
            "_dom_classes": [
              "widget-interact"
            ],
            "_model_module": "@jupyter-widgets/controls",
            "_model_module_version": "1.5.0",
            "_model_name": "VBoxModel",
            "_view_count": null,
            "_view_module": "@jupyter-widgets/controls",
            "_view_module_version": "1.5.0",
            "_view_name": "VBoxView",
            "box_style": "",
            "children": [
              "IPY_MODEL_eeb322ac57694486ab8905a0bbea94b4",
              "IPY_MODEL_c920e4d0a0554025a70ad5b8c3f12953"
            ],
            "layout": "IPY_MODEL_80bb566448764cd78ef5bc612bd1c594"
          }
        },
        "eeb322ac57694486ab8905a0bbea94b4": {
          "model_module": "@jupyter-widgets/controls",
          "model_name": "FloatSliderModel",
          "model_module_version": "1.5.0",
          "state": {
            "_dom_classes": [],
            "_model_module": "@jupyter-widgets/controls",
            "_model_module_version": "1.5.0",
            "_model_name": "FloatSliderModel",
            "_view_count": null,
            "_view_module": "@jupyter-widgets/controls",
            "_view_module_version": "1.5.0",
            "_view_name": "FloatSliderView",
            "continuous_update": true,
            "description": "x0",
            "description_tooltip": null,
            "disabled": false,
            "layout": "IPY_MODEL_500874e2f3a34ca9a9e774b7a7816090",
            "max": 30,
            "min": -30,
            "orientation": "horizontal",
            "readout": true,
            "readout_format": ".2f",
            "step": 0.5,
            "style": "IPY_MODEL_437c009fcb4046b68a9427911c44235c",
            "value": 0
          }
        },
        "c920e4d0a0554025a70ad5b8c3f12953": {
          "model_module": "@jupyter-widgets/output",
          "model_name": "OutputModel",
          "model_module_version": "1.0.0",
          "state": {
            "_dom_classes": [],
            "_model_module": "@jupyter-widgets/output",
            "_model_module_version": "1.0.0",
            "_model_name": "OutputModel",
            "_view_count": null,
            "_view_module": "@jupyter-widgets/output",
            "_view_module_version": "1.0.0",
            "_view_name": "OutputView",
            "layout": "IPY_MODEL_c082c4f6bc1d4cbcae035062a6c2872a",
            "msg_id": "",
            "outputs": [
              {
                "output_type": "display_data",
                "data": {
                  "text/plain": "<Figure size 720x360 with 1 Axes>",
                  "image/png": "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\n"
                },
                "metadata": {
                  "needs_background": "light"
                }
              }
            ]
          }
        },
        "80bb566448764cd78ef5bc612bd1c594": {
          "model_module": "@jupyter-widgets/base",
          "model_name": "LayoutModel",
          "model_module_version": "1.2.0",
          "state": {
            "_model_module": "@jupyter-widgets/base",
            "_model_module_version": "1.2.0",
            "_model_name": "LayoutModel",
            "_view_count": null,
            "_view_module": "@jupyter-widgets/base",
            "_view_module_version": "1.2.0",
            "_view_name": "LayoutView",
            "align_content": null,
            "align_items": null,
            "align_self": null,
            "border": null,
            "bottom": null,
            "display": null,
            "flex": null,
            "flex_flow": null,
            "grid_area": null,
            "grid_auto_columns": null,
            "grid_auto_flow": null,
            "grid_auto_rows": null,
            "grid_column": null,
            "grid_gap": null,
            "grid_row": null,
            "grid_template_areas": null,
            "grid_template_columns": null,
            "grid_template_rows": null,
            "height": null,
            "justify_content": null,
            "justify_items": null,
            "left": null,
            "margin": null,
            "max_height": null,
            "max_width": null,
            "min_height": null,
            "min_width": null,
            "object_fit": null,
            "object_position": null,
            "order": null,
            "overflow": null,
            "overflow_x": null,
            "overflow_y": null,
            "padding": null,
            "right": null,
            "top": null,
            "visibility": null,
            "width": null
          }
        },
        "500874e2f3a34ca9a9e774b7a7816090": {
          "model_module": "@jupyter-widgets/base",
          "model_name": "LayoutModel",
          "model_module_version": "1.2.0",
          "state": {
            "_model_module": "@jupyter-widgets/base",
            "_model_module_version": "1.2.0",
            "_model_name": "LayoutModel",
            "_view_count": null,
            "_view_module": "@jupyter-widgets/base",
            "_view_module_version": "1.2.0",
            "_view_name": "LayoutView",
            "align_content": null,
            "align_items": null,
            "align_self": null,
            "border": null,
            "bottom": null,
            "display": null,
            "flex": null,
            "flex_flow": null,
            "grid_area": null,
            "grid_auto_columns": null,
            "grid_auto_flow": null,
            "grid_auto_rows": null,
            "grid_column": null,
            "grid_gap": null,
            "grid_row": null,
            "grid_template_areas": null,
            "grid_template_columns": null,
            "grid_template_rows": null,
            "height": null,
            "justify_content": null,
            "justify_items": null,
            "left": null,
            "margin": null,
            "max_height": null,
            "max_width": null,
            "min_height": null,
            "min_width": null,
            "object_fit": null,
            "object_position": null,
            "order": null,
            "overflow": null,
            "overflow_x": null,
            "overflow_y": null,
            "padding": null,
            "right": null,
            "top": null,
            "visibility": null,
            "width": null
          }
        },
        "437c009fcb4046b68a9427911c44235c": {
          "model_module": "@jupyter-widgets/controls",
          "model_name": "SliderStyleModel",
          "model_module_version": "1.5.0",
          "state": {
            "_model_module": "@jupyter-widgets/controls",
            "_model_module_version": "1.5.0",
            "_model_name": "SliderStyleModel",
            "_view_count": null,
            "_view_module": "@jupyter-widgets/base",
            "_view_module_version": "1.2.0",
            "_view_name": "StyleView",
            "description_width": "",
            "handle_color": null
          }
        },
        "c082c4f6bc1d4cbcae035062a6c2872a": {
          "model_module": "@jupyter-widgets/base",
          "model_name": "LayoutModel",
          "model_module_version": "1.2.0",
          "state": {
            "_model_module": "@jupyter-widgets/base",
            "_model_module_version": "1.2.0",
            "_model_name": "LayoutModel",
            "_view_count": null,
            "_view_module": "@jupyter-widgets/base",
            "_view_module_version": "1.2.0",
            "_view_name": "LayoutView",
            "align_content": null,
            "align_items": null,
            "align_self": null,
            "border": null,
            "bottom": null,
            "display": null,
            "flex": null,
            "flex_flow": null,
            "grid_area": null,
            "grid_auto_columns": null,
            "grid_auto_flow": null,
            "grid_auto_rows": null,
            "grid_column": null,
            "grid_gap": null,
            "grid_row": null,
            "grid_template_areas": null,
            "grid_template_columns": null,
            "grid_template_rows": null,
            "height": null,
            "justify_content": null,
            "justify_items": null,
            "left": null,
            "margin": null,
            "max_height": null,
            "max_width": null,
            "min_height": null,
            "min_width": null,
            "object_fit": null,
            "object_position": null,
            "order": null,
            "overflow": null,
            "overflow_x": null,
            "overflow_y": null,
            "padding": null,
            "right": null,
            "top": null,
            "visibility": null,
            "width": null
          }
        }
      }
    },
    "accelerator": "GPU"
  },
  "cells": [
    {
      "cell_type": "markdown",
      "metadata": {
        "id": "view-in-github",
        "colab_type": "text"
      },
      "source": [
        "<a href=\"https://colab.research.google.com/github/Algon-33/TWI-Generation/blob/main/TWI%20Class%20Generator.ipynb\" target=\"_parent\"><img src=\"https://colab.research.google.com/assets/colab-badge.svg\" alt=\"Open In Colab\"/></a>"
      ]
    },
    {
      "cell_type": "code",
      "execution_count": 7,
      "metadata": {
        "id": "moY8IOKlrm9b",
        "colab": {
          "base_uri": "https://localhost:8080/",
          "height": 363
        },
        "outputId": "b9857a20-3906-4335-8534-78b559ffeaf7"
      },
      "outputs": [
        {
          "output_type": "error",
          "ename": "ModuleNotFoundError",
          "evalue": "ignored",
          "traceback": [
            "\u001b[0;31m---------------------------------------------------------------------------\u001b[0m",
            "\u001b[0;31mModuleNotFoundError\u001b[0m                       Traceback (most recent call last)",
            "\u001b[0;32m<ipython-input-7-d4f8a49f09a7>\u001b[0m in \u001b[0;36m<module>\u001b[0;34m\u001b[0m\n\u001b[1;32m      3\u001b[0m \u001b[0;32mimport\u001b[0m \u001b[0mmatplotlib\u001b[0m\u001b[0;34m.\u001b[0m\u001b[0mpyplot\u001b[0m \u001b[0;32mas\u001b[0m \u001b[0mplt\u001b[0m \u001b[0;31m# for making figures\u001b[0m\u001b[0;34m\u001b[0m\u001b[0;34m\u001b[0m\u001b[0m\n\u001b[1;32m      4\u001b[0m \u001b[0;32mimport\u001b[0m \u001b[0mrandom\u001b[0m\u001b[0;34m\u001b[0m\u001b[0;34m\u001b[0m\u001b[0m\n\u001b[0;32m----> 5\u001b[0;31m \u001b[0;32mimport\u001b[0m \u001b[0mTransformers\u001b[0m\u001b[0;34m\u001b[0m\u001b[0;34m\u001b[0m\u001b[0m\n\u001b[0m\u001b[1;32m      6\u001b[0m \u001b[0mget_ipython\u001b[0m\u001b[0;34m(\u001b[0m\u001b[0;34m)\u001b[0m\u001b[0;34m.\u001b[0m\u001b[0mrun_line_magic\u001b[0m\u001b[0;34m(\u001b[0m\u001b[0;34m'matplotlib'\u001b[0m\u001b[0;34m,\u001b[0m \u001b[0;34m'inline'\u001b[0m\u001b[0;34m)\u001b[0m\u001b[0;34m\u001b[0m\u001b[0;34m\u001b[0m\u001b[0m\n",
            "\u001b[0;31mModuleNotFoundError\u001b[0m: No module named 'Transformers'",
            "",
            "\u001b[0;31m---------------------------------------------------------------------------\u001b[0;32m\nNOTE: If your import is failing due to a missing package, you can\nmanually install dependencies using either !pip or !apt.\n\nTo view examples of installing some common dependencies, click the\n\"Open Examples\" button below.\n\u001b[0;31m---------------------------------------------------------------------------\u001b[0m\n"
          ],
          "errorDetails": {
            "actions": [
              {
                "action": "open_url",
                "actionText": "Open Examples",
                "url": "/notebooks/snippets/importing_libraries.ipynb"
              }
            ]
          }
        }
      ],
      "source": [
        "import torch\n",
        "import torch.nn.functional as F\n",
        "import matplotlib.pyplot as plt # for making figures\n",
        "import random\n",
        "%matplotlib inline"
      ]
    },
    {
      "cell_type": "code",
      "source": [
        "# download the names.txt file from github\n",
        "#!wget https://raw.githubusercontent.com/karpathy/makemore/master/names.txt\n",
        "#!wget https://raw.githubusercontent.com/Algon-33/TWI-Generation/main/classes_cleaned.txt\n",
        "#!wget https://raw.githubusercontent.com/Algon-33/TWI-Generation/main/skills.txt\n",
        "#!wget https://raw.githubusercontent.com/Algon-33/TWI-Generation/main/spells.txt\n",
        "!wget https://raw.githubusercontent.com/Algon-33/TWI-Generation/main/dataset.txt"
      ],
      "metadata": {
        "colab": {
          "base_uri": "https://localhost:8080/"
        },
        "id": "LmmM8POvrtco",
        "outputId": "4fff9824-4254-4e67-ab92-473fc48078cd"
      },
      "execution_count": 2,
      "outputs": [
        {
          "output_type": "stream",
          "name": "stdout",
          "text": [
            "--2022-10-26 22:13:48--  https://raw.githubusercontent.com/Algon-33/TWI-Generation/main/dataset.txt\n",
            "Resolving raw.githubusercontent.com (raw.githubusercontent.com)... 185.199.110.133, 185.199.109.133, 185.199.111.133, ...\n",
            "Connecting to raw.githubusercontent.com (raw.githubusercontent.com)|185.199.110.133|:443... connected.\n",
            "HTTP request sent, awaiting response... 200 OK\n",
            "Length: 104606 (102K) [text/plain]\n",
            "Saving to: ‘dataset.txt’\n",
            "\n",
            "dataset.txt         100%[===================>] 102.15K  --.-KB/s    in 0.002s  \n",
            "\n",
            "2022-10-26 22:13:49 (48.3 MB/s) - ‘dataset.txt’ saved [104606/104606]\n",
            "\n"
          ]
        }
      ]
    },
    {
      "cell_type": "markdown",
      "source": [],
      "metadata": {
        "id": "PS8m5wsR7eCN"
      }
    },
    {
      "cell_type": "code",
      "source": [
        "from re import S\n",
        "# read in all the words\n",
        "random.seed(925)\n",
        "words = open('dataset.txt', 'r').read().splitlines()\n",
        "words = list(map( lambda x: x.strip(\"]\").strip(\"[\"), words))\n",
        "random.shuffle(words)\n",
        "words[0:8]"
      ],
      "metadata": {
        "colab": {
          "base_uri": "https://localhost:8080/"
        },
        "id": "4KZE_EtNru_P",
        "outputId": "207d08f0-26ba-4a5e-8fb0-facc26a939e5"
      },
      "execution_count": 3,
      "outputs": [
        {
          "output_type": "execute_result",
          "data": {
            "text/plain": [
              "['cafe manager',\n",
              " 'ambush commander',\n",
              " 'reckless charge',\n",
              " 'riders',\n",
              " 'renowned tincturist',\n",
              " 'heavyweight punch',\n",
              " 'arbiters',\n",
              " 'fashionistas']"
            ]
          },
          "metadata": {},
          "execution_count": 3
        }
      ]
    },
    {
      "cell_type": "code",
      "source": [
        "# build the vocabulary of characters and mappings to/from integers\n",
        "chars = sorted(list(set(''.join(words))))\n",
        "stoi = {s:i+1 for i,s in enumerate(chars)}\n",
        "stoi['@'] = 0\n",
        "itos = {i:s for s,i in stoi.items()}\n",
        "vocab_size = len(itos)\n",
        "print(itos)\n",
        "print(vocab_size)"
      ],
      "metadata": {
        "colab": {
          "base_uri": "https://localhost:8080/"
        },
        "id": "DXRALF1xr2od",
        "outputId": "26d35b46-bc84-4625-b82c-5bc1b62506fd"
      },
      "execution_count": 4,
      "outputs": [
        {
          "output_type": "stream",
          "name": "stdout",
          "text": [
            "{1: ' ', 2: '!', 3: \"'\", 4: '(', 5: ')', 6: ',', 7: '.', 8: '1', 9: '4', 10: '5', 11: ':', 12: '?', 13: '[', 14: ']', 15: '_', 16: 'a', 17: 'b', 18: 'c', 19: 'd', 20: 'e', 21: 'f', 22: 'g', 23: 'h', 24: 'i', 25: 'j', 26: 'k', 27: 'l', 28: 'm', 29: 'n', 30: 'o', 31: 'p', 32: 'q', 33: 'r', 34: 's', 35: 't', 36: 'u', 37: 'v', 38: 'w', 39: 'x', 40: 'y', 41: 'z', 42: '’', 43: '…', 0: '@'}\n",
            "44\n"
          ]
        }
      ]
    },
    {
      "cell_type": "code",
      "source": [
        "# build the dataset\n",
        "block_size = 3 # context length: how many characters do we take to predict the next one?\n",
        "\n",
        "def build_dataset(words):  \n",
        "  X, Y = [], []\n",
        "  \n",
        "  for w in words:\n",
        "    context = [0] * block_size\n",
        "    for ch in w + '@':\n",
        "      ix = stoi[ch]\n",
        "      X.append(context)\n",
        "      Y.append(ix)\n",
        "      context = context[1:] + [ix] # crop and append\n",
        "\n",
        "  X = torch.tensor(X)\n",
        "  Y = torch.tensor(Y)\n",
        "  print(X.shape, Y.shape)\n",
        "  return X, Y\n",
        "\n",
        "import random\n",
        "random.seed(42)\n",
        "random.shuffle(words)\n",
        "n1 = int(0.8*len(words))\n",
        "n2 = int(0.9*len(words))\n",
        "\n",
        "Xtr,  Ytr  = build_dataset(words[:n1])     # 80%\n",
        "Xdev, Ydev = build_dataset(words[n1:n2])   # 10%\n",
        "Xte,  Yte  = build_dataset(words[n2:])     # 10%\n"
      ],
      "metadata": {
        "colab": {
          "base_uri": "https://localhost:8080/"
        },
        "id": "lY9RYt-or3pu",
        "outputId": "7e86ffba-09da-426d-f64e-addd004884df"
      },
      "execution_count": 5,
      "outputs": [
        {
          "output_type": "stream",
          "name": "stdout",
          "text": [
            "torch.Size([73798, 3]) torch.Size([73798])\n",
            "torch.Size([9272, 3]) torch.Size([9272])\n",
            "torch.Size([9110, 3]) torch.Size([9110])\n"
          ]
        }
      ]
    },
    {
      "cell_type": "code",
      "source": [
        "# MLP revisited\n",
        "n_embd = 10 # the dimensionality of the character embedding vectors\n",
        "n_hidden = 200 # the number of neurons in the hidden layer of the MLP\n",
        "\n",
        "g = torch.Generator().manual_seed(2147483647) # for reproducibility\n",
        "C  = torch.randn((vocab_size, n_embd),            generator=g)\n",
        "W1 = torch.randn((n_embd * block_size, n_hidden), generator=g) * (5/3)/((n_embd * block_size)**0.5) #* 0.2\n",
        "#b1 = torch.randn(n_hidden,                        generator=g) * 0.01\n",
        "W2 = torch.randn((n_hidden, vocab_size),          generator=g) * 0.01\n",
        "b2 = torch.randn(vocab_size,                      generator=g) * 0\n",
        "\n",
        "# BatchNorm parameters\n",
        "bngain = torch.ones((1, n_hidden))\n",
        "bnbias = torch.zeros((1, n_hidden))\n",
        "bnmean_running = torch.zeros((1, n_hidden))\n",
        "bnstd_running = torch.ones((1, n_hidden))\n",
        "\n",
        "parameters = [C, W1, W2, b2, bngain, bnbias]\n",
        "print(sum(p.nelement() for p in parameters)) # number of parameters in total\n",
        "for p in parameters:\n",
        "  p.requires_grad = True"
      ],
      "metadata": {
        "colab": {
          "base_uri": "https://localhost:8080/"
        },
        "id": "57RCzt38r436",
        "outputId": "efb7469b-7553-4b3b-eeb0-9038a60c0890"
      },
      "execution_count": 64,
      "outputs": [
        {
          "output_type": "stream",
          "name": "stdout",
          "text": [
            "15684\n"
          ]
        }
      ]
    },
    {
      "cell_type": "code",
      "source": [
        "Xdev"
      ],
      "metadata": {
        "colab": {
          "base_uri": "https://localhost:8080/"
        },
        "id": "Z6GNOK3dAuBw",
        "outputId": "0cfb59ef-697f-4f8f-f61e-2372dfcc2ea8"
      },
      "execution_count": 75,
      "outputs": [
        {
          "output_type": "execute_result",
          "data": {
            "text/plain": [
              "tensor([[ 0,  0,  0],\n",
              "        [ 0,  0, 24],\n",
              "        [ 0, 24, 18],\n",
              "        ...,\n",
              "        [20, 28, 31],\n",
              "        [28, 31, 35],\n",
              "        [31, 35, 34]])"
            ]
          },
          "metadata": {},
          "execution_count": 75
        }
      ]
    },
    {
      "cell_type": "code",
      "source": [
        ", X\n",
        "# same optimization as last time\n",
        "max_steps = 20000\n",
        "batch_size = 32\n",
        "lossi = []\n",
        "loss_dev_old = 100\n",
        "for i in range(max_steps):\n",
        "  \n",
        "  # minibatch construct\n",
        "  ix = torch.randint(0, Xtr.shape[0], (batch_size,), generator=g)\n",
        "  Xb, Yb = Xtr[ix], Ytr[ix] # batch X,Y\n",
        "  \n",
        "  # forward pass\n",
        "  emb = C[Xb] # embed the characters into vectors\n",
        "  embcat = emb.view(emb.shape[0], -1) # concatenate the vectors\n",
        "  # Linear layer\n",
        "  hpreact = embcat @ W1 #+ b1 # hidden layer pre-activation\n",
        "  # BatchNorm layer\n",
        "  # -------------------------------------------------------------\n",
        "  bnmeani = hpreact.mean(0, keepdim=True)\n",
        "  bnstdi = hpreact.std(0, keepdim=True)\n",
        "  hpreact = bngain * (hpreact - bnmeani) / bnstdi + bnbias\n",
        "  with torch.no_grad():\n",
        "    bnmean_running = 0.999 * bnmean_running + 0.001 * bnmeani\n",
        "    bnstd_running = 0.999 * bnstd_running + 0.001 * bnstdi\n",
        "  # -------------------------------------------------------------\n",
        "  # Non-linearity\n",
        "  h = torch.tanh(hpreact) # hidden layer\n",
        "  logits = h @ W2 + b2 # output layer\n",
        "  loss = F.cross_entropy(logits, Yb) # loss function\n",
        "  # backward pass\n",
        "  for p in parameters:\n",
        "    p.grad = None\n",
        "  loss.backward()\n",
        "  \n",
        "  # update\n",
        "  lr = 0.1 if i < 100000 else 0.01 # step learning rate decay\n",
        "  for p in parameters:\n",
        "    p.data += -lr * p.grad\n",
        "\n",
        "  # track stats\n",
        "  if i % 1000 == 0: # print every once in a while\n",
        "    with torch.no_grad():\n",
        "      emb_dev = C[Xdev]\n",
        "      embcat_dev = emb_dev.view(emb_dev.shape[0], -1) # concatenate the vectors\n",
        "      # Linear layer\n",
        "      hpreact_dev = embcat_dev @ W1 #+ b1 # hidden layer pre-activation\n",
        "      # BatchNorm layer\n",
        "      # -------------------------------------------------------------\n",
        "      bnmeani_dev = hpreact_dev.mean(0, keepdim=True)\n",
        "      bnstdi_dev = hpreact_dev.std(0, keepdim=True)\n",
        "      hpreact_dev = bngain * (hpreact_dev - bnmeani_dev) / bnstdi_dev + bnbias\n",
        "      # -------------------------------------------------------------\n",
        "      # Non-linearity\n",
        "      h_dev = torch.tanh(hpreact_dev) # hidden layer\n",
        "      logits_dev = h_dev @ W2 + b2 # output layer\n",
        "      loss_dev_new = F.cross_entropy(logits_dev, Ydev) # loss function\n",
        "      if ((loss_dev_new-loss_dev_old)/loss_dev_new)**2<0.0000001:\n",
        "        break\n",
        "      else:\n",
        "        loss_dev_old = loss_dev_new\n",
        "\n",
        "    print(f'{i:7d}/{max_steps:7d}: {loss.item():.4f}')\n",
        "  lossi.append(loss.log10().item())\n",
        "  "
      ],
      "metadata": {
        "colab": {
          "base_uri": "https://localhost:8080/"
        },
        "id": "W4LMs4kwr6OW",
        "outputId": "34e98ad3-345c-4837-a3aa-77ed5978b416"
      },
      "execution_count": 87,
      "outputs": [
        {
          "output_type": "stream",
          "name": "stdout",
          "text": [
            "      0/  20000: 1.8569\n",
            "   1000/  20000: 1.9727\n",
            "   2000/  20000: 1.9473\n",
            "   3000/  20000: 1.3993\n",
            "   4000/  20000: 1.9784\n",
            "   5000/  20000: 1.7915\n",
            "   6000/  20000: 2.0031\n",
            "   7000/  20000: 1.7514\n",
            "   8000/  20000: 1.9104\n",
            "   9000/  20000: 1.5560\n",
            "  10000/  20000: 1.6429\n",
            "  11000/  20000: 2.0409\n",
            "  12000/  20000: 2.0253\n",
            "  13000/  20000: 2.1243\n",
            "  14000/  20000: 2.2252\n"
          ]
        }
      ]
    },
    {
      "cell_type": "code",
      "source": [
        "plt.plot(lossi)"
      ],
      "metadata": {
        "colab": {
          "base_uri": "https://localhost:8080/",
          "height": 283
        },
        "id": "35HnjffFr7vm",
        "outputId": "0527f7a9-7338-47e4-94aa-0c958e1f2112"
      },
      "execution_count": 88,
      "outputs": [
        {
          "output_type": "execute_result",
          "data": {
            "text/plain": [
              "[<matplotlib.lines.Line2D at 0x7fb0abedff10>]"
            ]
          },
          "metadata": {},
          "execution_count": 88
        },
        {
          "output_type": "display_data",
          "data": {
            "text/plain": [
              "<Figure size 432x288 with 1 Axes>"
            ],
            "image/png": "[encoded data removed]"
          },
          "metadata": {
            "needs_background": "light"
          }
        }
      ]
    },
    {
      "cell_type": "code",
      "source": [
        "# calibrate the batch norm at the end of training\n",
        "\n",
        "with torch.no_grad():\n",
        "  # pass the training set through\n",
        "  emb = C[Xtr]\n",
        "  embcat = emb.view(emb.shape[0], -1)\n",
        "  hpreact = embcat @ W1 # + b1\n",
        "  # measure the mean/std over the entire training set\n",
        "  bnmean = hpreact.mean(0, keepdim=True)\n",
        "  bnstd = hpreact.std(0, keepdim=True)\n"
      ],
      "metadata": {
        "id": "Xe1XghzFr9hx"
      },
      "execution_count": 89,
      "outputs": []
    },
    {
      "cell_type": "code",
      "source": [
        "@torch.no_grad() # this decorator disables gradient tracking\n",
        "def split_loss(split):\n",
        "  x,y = {\n",
        "    'train': (Xtr, Ytr),\n",
        "    'val': (Xdev, Ydev),\n",
        "    'test': (Xte, Yte),\n",
        "  }[split]\n",
        "  emb = C[x] # (N, block_size, n_embd)\n",
        "  embcat = emb.view(emb.shape[0], -1) # concat into (N, block_size * n_embd)\n",
        "  hpreact = embcat @ W1 # + b1\n",
        "  #hpreact = bngain * (hpreact - hpreact.mean(0, keepdim=True)) / hpreact.std(0, keepdim=True) + bnbias\n",
        "  hpreact = bngain * (hpreact - bnmean_running) / bnstd_running + bnbias\n",
        "  h = torch.tanh(hpreact) # (N, n_hidden)\n",
        "  logits = h @ W2 + b2 # (N, vocab_size)\n",
        "  loss = F.cross_entropy(logits, y)\n",
        "  print(split, loss.item())\n",
        "\n",
        "split_loss('train')\n",
        "split_loss('val')"
      ],
      "metadata": {
        "colab": {
          "base_uri": "https://localhost:8080/"
        },
        "id": "Vsr5wWYCr_JA",
        "outputId": "1f9e3ec9-4c35-45eb-c4fa-50d4ed408819"
      },
      "execution_count": 90,
      "outputs": [
        {
          "output_type": "stream",
          "name": "stdout",
          "text": [
            "train 1.7613108158111572\n",
            "val 1.9592565298080444\n"
          ]
        }
      ]
    },
    {
      "cell_type": "markdown",
      "source": [
        "## loss log\n",
        "\n",
        "### original:\n",
        "train 2.1245384216308594\n",
        "val   2.168196439743042\n",
        "\n",
        "### fix softmax confidently wrong:\n",
        "train 2.07\n",
        "val   2.13\n",
        "\n",
        "### fix tanh layer too saturated at init:\n",
        "train 2.0355966091156006\n",
        "val   2.1026785373687744\n",
        "\n",
        "### use semi-principled \"kaiming init\" instead of hacky init:\n",
        "train 2.0376641750335693\n",
        "val   2.106989622116089\n",
        "\n",
        "### add batch norm layer\n",
        "train 2.0668270587921143\n",
        "val 2.104844808578491\n"
      ],
      "metadata": {
        "id": "8FR_irzwsIaI"
      }
    },
    {
      "cell_type": "code",
      "source": [
        "# SUMMARY + PYTORCHIFYING -----------"
      ],
      "metadata": {
        "id": "qXyAMq5esAho"
      },
      "execution_count": 12,
      "outputs": []
    },
    {
      "cell_type": "code",
      "source": [
        "Xtr[0:10]"
      ],
      "metadata": {
        "id": "WxXVhF-3E9Zh",
        "outputId": "3f9fce4c-a3df-4583-c018-97348133692d",
        "colab": {
          "base_uri": "https://localhost:8080/"
        }
      },
      "execution_count": 62,
      "outputs": [
        {
          "output_type": "execute_result",
          "data": {
            "text/plain": [
              "tensor([[ 0,  0,  0],\n",
              "        [ 0,  0, 22],\n",
              "        [ 0, 22, 30],\n",
              "        [22, 30, 33],\n",
              "        [30, 33, 22],\n",
              "        [33, 22, 20],\n",
              "        [22, 20, 27],\n",
              "        [20, 27, 20],\n",
              "        [27, 20, 16],\n",
              "        [20, 16, 31]])"
            ]
          },
          "metadata": {},
          "execution_count": 62
        }
      ]
    },
    {
      "cell_type": "code",
      "source": [
        "# Let's train a deeper network\n",
        "# The classes we create here are the same API as nn.Module in PyTorch\n",
        "\n",
        "class Linear:\n",
        "  \n",
        "  def __init__(self, fan_in, fan_out, bias=True):\n",
        "    self.weight = torch.randn((fan_in, fan_out), generator=g) / fan_in**0.5\n",
        "    self.bias = torch.zeros(fan_out) if bias else None\n",
        "  \n",
        "  def __call__(self, x):\n",
        "    self.out = x @ self.weight\n",
        "    if self.bias is not None:\n",
        "      self.out += self.bias\n",
        "    return self.out\n",
        "  \n",
        "  def parameters(self):\n",
        "    return [self.weight] + ([] if self.bias is None else [self.bias])\n",
        "\n",
        "\n",
        "class BatchNorm1d:\n",
        "  \n",
        "  def __init__(self, dim, eps=1e-5, momentum=0.1):\n",
        "    self.eps = eps\n",
        "    self.momentum = momentum\n",
        "    self.training = True\n",
        "    # parameters (trained with backprop)\n",
        "    self.gamma = torch.ones(dim)\n",
        "    self.beta = torch.zeros(dim)\n",
        "    # buffers (trained with a running 'momentum update')\n",
        "    self.running_mean = torch.zeros(dim)\n",
        "    self.running_var = torch.ones(dim)\n",
        "  \n",
        "  def __call__(self, x):\n",
        "    # calculate the forward pass\n",
        "    if self.training:\n",
        "      xmean = x.mean(0, keepdim=True) # batch mean\n",
        "      xvar = x.var(0, keepdim=True) # batch variance\n",
        "    else:\n",
        "      xmean = self.running_mean\n",
        "      xvar = self.running_var\n",
        "    xhat = (x - xmean) / torch.sqrt(xvar + self.eps) # normalize to unit variance\n",
        "    self.out = self.gamma * xhat + self.beta\n",
        "    # update the buffers\n",
        "    if self.training:\n",
        "      with torch.no_grad():\n",
        "        self.running_mean = (1 - self.momentum) * self.running_mean + self.momentum * xmean\n",
        "        self.running_var = (1 - self.momentum) * self.running_var + self.momentum * xvar\n",
        "    return self.out\n",
        "  \n",
        "  def parameters(self):\n",
        "    return [self.gamma, self.beta]\n",
        "\n",
        "class Tanh:\n",
        "  def __call__(self, x):\n",
        "    self.out = torch.tanh(x)\n",
        "    return self.out\n",
        "  def parameters(self):\n",
        "    return []\n",
        "\n",
        "n_embd = 10 # the dimensionality of the character embedding vectors\n",
        "n_hidden = 100 # the number of neurons in the hidden layer of the MLP\n",
        "g = torch.Generator().manual_seed(2147483647) # for reproducibility\n",
        "\n",
        "C = torch.randn((vocab_size, n_embd),            generator=g)\n",
        "layers = [\n",
        "  Linear(n_embd * block_size, n_hidden, bias=False), BatchNorm1d(n_hidden), Tanh(),\n",
        "  Linear(           n_hidden, n_hidden, bias=False), BatchNorm1d(n_hidden), Tanh(),\n",
        "  Linear(           n_hidden, n_hidden, bias=False), BatchNorm1d(n_hidden), Tanh(),\n",
        "  Linear(           n_hidden, n_hidden, bias=False), BatchNorm1d(n_hidden), Tanh(),\n",
        "  Linear(           n_hidden, n_hidden, bias=False), BatchNorm1d(n_hidden), Tanh(),\n",
        "  Linear(           n_hidden, vocab_size, bias=False), BatchNorm1d(vocab_size),\n",
        "]\n",
        "# layers = [\n",
        "#   Linear(n_embd * block_size, n_hidden), Tanh(),\n",
        "#   Linear(           n_hidden, n_hidden), Tanh(),\n",
        "#   Linear(           n_hidden, n_hidden), Tanh(),\n",
        "#   Linear(           n_hidden, n_hidden), Tanh(),\n",
        "#   Linear(           n_hidden, n_hidden), Tanh(),\n",
        "#   Linear(           n_hidden, vocab_size),\n",
        "# ]\n",
        "\n",
        "with torch.no_grad():\n",
        "  # last layer: make less confident\n",
        "  layers[-1].gamma *= 0.1\n",
        "  #layers[-1].weight *= 0.1\n",
        "  # all other layers: apply gain\n",
        "  for layer in layers[:-1]:\n",
        "    if isinstance(layer, Linear):\n",
        "      layer.weight *= 1.0 #5/3\n",
        "\n",
        "parameters = [C] + [p for layer in layers for p in layer.parameters()]\n",
        "print(sum(p.nelement() for p in parameters)) # number of parameters in total\n",
        "for p in parameters:\n",
        "  p.requires_grad = True"
      ],
      "metadata": {
        "colab": {
          "base_uri": "https://localhost:8080/"
        },
        "id": "vgNBcKs8sLX6",
        "outputId": "516eaf3a-4af6-49ca-b49a-9f0b6f986fe2"
      },
      "execution_count": 107,
      "outputs": [
        {
          "output_type": "stream",
          "name": "stdout",
          "text": [
            "18328\n"
          ]
        }
      ]
    },
    {
      "cell_type": "code",
      "source": [
        "# same optimization as last time\n",
        "max_steps = 30000\n",
        "batch_size = 32\n",
        "lossi = []\n",
        "ud = []\n",
        "\n",
        "for i in range(max_steps):\n",
        "  \n",
        "  # minibatch construct\n",
        "  ix = torch.randint(0, Xtr.shape[0], (batch_size,), generator=g)\n",
        "  Xb, Yb = Xtr[ix], Ytr[ix] # batch X,Y\n",
        "  \n",
        "  # forward pass\n",
        "  emb = C[Xb] # embed the characters into vectors\n",
        "  x = emb.view(emb.shape[0], -1) # concatenate the vectors\n",
        "  for layer in layers:\n",
        "    x = layer(x)\n",
        "  loss = F.cross_entropy(x, Yb) # loss function\n",
        "  \n",
        "  # backward pass\n",
        "  for layer in layers:\n",
        "    layer.out.retain_grad() # AFTER_DEBUG: would take out retain_graph\n",
        "  for p in parameters:\n",
        "    p.grad = None\n",
        "  loss.backward()\n",
        "  \n",
        "  # update\n",
        "  lr = 0.1 if i < 15000 else 0.01 # step learning rate decay\n",
        "  for p in parameters:\n",
        "    p.data += -lr * p.grad\n",
        "\n",
        "  # track stats\n",
        "  if i % 1000 == 0: # print every once in a while\n",
        "    print(f'{i:7d}/{max_steps:7d}: {loss.item():.4f}')\n",
        "  lossi.append(loss.log10().item())\n",
        "  with torch.no_grad():\n",
        "    ud.append([((lr*p.grad).std() / p.data.std()).log10().item() for p in parameters])\n",
        "\n",
        "#  if i >= 10000:\n",
        "#    break # AFTER_DEBUG: would take out obviously to run full optimization"
      ],
      "metadata": {
        "colab": {
          "base_uri": "https://localhost:8080/"
        },
        "id": "c21ja-rfsM-a",
        "outputId": "7813c18b-85de-4de7-f7e1-5eee7b576e35"
      },
      "execution_count": 111,
      "outputs": [
        {
          "output_type": "stream",
          "name": "stdout",
          "text": [
            "      0/  30000: 2.9632\n",
            "   1000/  30000: 3.1584\n",
            "   2000/  30000: 2.8699\n",
            "   3000/  30000: 2.9406\n",
            "   4000/  30000: 2.8915\n",
            "   5000/  30000: 2.9553\n",
            "   6000/  30000: 3.0190\n",
            "   7000/  30000: 2.9024\n",
            "   8000/  30000: 2.8799\n",
            "   9000/  30000: 2.5801\n",
            "  10000/  30000: 2.6708\n",
            "  11000/  30000: 2.8914\n",
            "  12000/  30000: 2.9607\n",
            "  13000/  30000: 2.5502\n",
            "  14000/  30000: 2.6869\n",
            "  15000/  30000: 2.7691\n",
            "  16000/  30000: 2.6536\n",
            "  17000/  30000: 2.5645\n",
            "  18000/  30000: 2.6208\n",
            "  19000/  30000: 2.6021\n",
            "  20000/  30000: 2.6630\n",
            "  21000/  30000: 2.5645\n",
            "  22000/  30000: 2.5743\n",
            "  23000/  30000: 2.5944\n",
            "  24000/  30000: 2.5731\n",
            "  25000/  30000: 2.6563\n",
            "  26000/  30000: 2.9957\n",
            "  27000/  30000: 2.6382\n",
            "  28000/  30000: 2.8022\n",
            "  29000/  30000: 2.5003\n"
          ]
        }
      ]
    },
    {
      "cell_type": "code",
      "source": [
        "# visualize histograms\n",
        "plt.figure(figsize=(20, 4)) # width and height of the plot\n",
        "legends = []\n",
        "for i, layer in enumerate(layers[:-1]): # note: exclude the output layer\n",
        "  if isinstance(layer, Tanh):\n",
        "    t = layer.out\n",
        "    print('layer %d (%10s): mean %+.2f, std %.2f, saturated: %.2f%%' % (i, layer.__class__.__name__, t.mean(), t.std(), (t.abs() > 0.97).float().mean()*100))\n",
        "    hy, hx = torch.histogram(t, density=True)\n",
        "    plt.plot(hx[:-1].detach(), hy.detach())\n",
        "    legends.append(f'layer {i} ({layer.__class__.__name__}')\n",
        "plt.legend(legends);\n",
        "plt.title('activation distribution')"
      ],
      "metadata": {
        "colab": {
          "base_uri": "https://localhost:8080/",
          "height": 334
        },
        "id": "Pp3u0ZznsOK4",
        "outputId": "def01c38-a07e-4b48-a01e-529849fafed2"
      },
      "execution_count": 112,
      "outputs": [
        {
          "output_type": "stream",
          "name": "stdout",
          "text": [
            "layer 2 (      Tanh): mean -0.00, std 0.10, saturated: 0.00%\n",
            "layer 5 (      Tanh): mean -0.00, std 0.10, saturated: 0.00%\n"
          ]
        },
        {
          "output_type": "execute_result",
          "data": {
            "text/plain": [
              "Text(0.5, 1.0, 'activation distribution')"
            ]
          },
          "metadata": {},
          "execution_count": 112
        },
        {
          "output_type": "display_data",
          "data": {
            "text/plain": [
              "<Figure size 1440x288 with 1 Axes>"
            ],
            "image/png": "[encoded data removed]"
          },
          "metadata": {
            "needs_background": "light"
          }
        }
      ]
    },
    {
      "cell_type": "code",
      "source": [
        "for i, layer in enumerate(layers[:-1]):\n",
        "  if isinstance(layer, Tanh):\n",
        "    t = layer.out.grad\n",
        "    print(t)"
      ],
      "metadata": {
        "colab": {
          "base_uri": "https://localhost:8080/"
        },
        "id": "uG8OF1E6F3Q3",
        "outputId": "3b9f0379-3475-4636-bcbf-1bd85a6279c4"
      },
      "execution_count": 95,
      "outputs": [
        {
          "output_type": "stream",
          "name": "stdout",
          "text": [
            "tensor([[ 1.3824e-03,  1.5281e-03, -3.1783e-03,  ...,  1.2181e-03,\n",
            "         -6.1466e-04,  3.1799e-03],\n",
            "        [-1.6698e-03, -5.6713e-03,  5.5955e-03,  ...,  4.8794e-05,\n",
            "         -7.4165e-03,  4.4688e-03],\n",
            "        [ 2.7959e-03,  7.6794e-04, -6.8459e-03,  ...,  2.8487e-03,\n",
            "         -9.0766e-04,  3.5977e-03],\n",
            "        ...,\n",
            "        [-2.3035e-03,  7.5156e-04, -1.6972e-03,  ..., -4.8013e-03,\n",
            "          7.2532e-04,  2.5901e-03],\n",
            "        [-1.9922e-03, -2.7865e-03,  4.3913e-03,  ...,  4.6869e-04,\n",
            "          8.5170e-03,  7.6892e-04],\n",
            "        [ 1.0685e-02,  1.3851e-03, -6.7890e-04,  ..., -2.7758e-03,\n",
            "          1.8474e-03, -7.1317e-03]])\n",
            "tensor([[ 3.7321e-03,  1.5615e-03, -6.2705e-03,  ..., -2.2858e-03,\n",
            "          2.2138e-03,  2.7299e-03],\n",
            "        [ 3.6080e-03, -2.4029e-03,  4.7367e-03,  ..., -2.0009e-03,\n",
            "          6.6021e-04, -8.0293e-04],\n",
            "        [-3.3224e-03, -1.4623e-03,  6.0080e-03,  ...,  7.8795e-04,\n",
            "         -4.0002e-03, -4.0775e-03],\n",
            "        ...,\n",
            "        [-1.3778e-03,  1.0832e-03, -6.8829e-03,  ..., -1.7166e-03,\n",
            "         -3.3376e-03, -9.0412e-05],\n",
            "        [ 4.0062e-03, -2.4290e-03, -1.7207e-03,  ...,  2.9292e-03,\n",
            "          8.2800e-03, -7.8374e-03],\n",
            "        [-4.1921e-03,  5.2263e-03, -4.1020e-03,  ..., -2.0032e-03,\n",
            "         -3.6945e-03,  4.6683e-03]])\n",
            "tensor([[ 0.0063, -0.0071,  0.0020,  ...,  0.0012,  0.0057,  0.0084],\n",
            "        [-0.0096,  0.0027, -0.0007,  ...,  0.0019, -0.0032, -0.0036],\n",
            "        [-0.0017, -0.0039, -0.0012,  ...,  0.0088, -0.0018, -0.0029],\n",
            "        ...,\n",
            "        [ 0.0061, -0.0057,  0.0041,  ...,  0.0017,  0.0046,  0.0064],\n",
            "        [-0.0001, -0.0007, -0.0072,  ..., -0.0088, -0.0088,  0.0026],\n",
            "        [ 0.0017,  0.0039,  0.0090,  ...,  0.0083,  0.0086, -0.0049]])\n",
            "tensor([[ 0.0032,  0.0045,  0.0012,  ...,  0.0012, -0.0012,  0.0010],\n",
            "        [ 0.0025, -0.0022,  0.0030,  ..., -0.0062,  0.0014, -0.0073],\n",
            "        [ 0.0074, -0.0062,  0.0067,  ...,  0.0067,  0.0008, -0.0010],\n",
            "        ...,\n",
            "        [ 0.0022,  0.0063,  0.0019,  ...,  0.0005, -0.0010, -0.0032],\n",
            "        [ 0.0035,  0.0003, -0.0004,  ...,  0.0006,  0.0035,  0.0001],\n",
            "        [-0.0014,  0.0072, -0.0009,  ...,  0.0058, -0.0175,  0.0022]])\n",
            "tensor([[-0.0056,  0.0048, -0.0038,  ...,  0.0104, -0.0014,  0.0037],\n",
            "        [ 0.0034, -0.0028,  0.0023,  ..., -0.0030,  0.0028,  0.0013],\n",
            "        [-0.0004, -0.0048,  0.0009,  ..., -0.0037, -0.0052,  0.0008],\n",
            "        ...,\n",
            "        [-0.0027,  0.0028, -0.0023,  ...,  0.0058, -0.0012,  0.0018],\n",
            "        [-0.0026, -0.0001, -0.0054,  ..., -0.0008,  0.0070,  0.0061],\n",
            "        [ 0.0099,  0.0040,  0.0025,  ..., -0.0021, -0.0050,  0.0003]])\n"
          ]
        }
      ]
    },
    {
      "cell_type": "code",
      "source": [
        "# visualize histograms\n",
        "plt.figure(figsize=(20, 4)) # width and height of the plot\n",
        "legends = []\n",
        "for i, layer in enumerate(layers[:-1]): # note: exclude the output layer\n",
        "  if isinstance(layer, Tanh):\n",
        "    t = layer.out.grad\n",
        "    print('layer %d (%10s): mean %+f, std %e' % (i, layer.__class__.__name__, t.mean(), t.std()))\n",
        "    hy, hx = torch.histogram(t, density=True)\n",
        "    plt.plot(hx[:-1].detach(), hy.detach())\n",
        "    legends.append(f'layer {i} ({layer.__class__.__name__}')\n",
        "plt.legend(legends);\n",
        "plt.title('gradient distribution')"
      ],
      "metadata": {
        "colab": {
          "base_uri": "https://localhost:8080/",
          "height": 387
        },
        "id": "x2VNbUNosT9J",
        "outputId": "55f31312-bb28-4e76-d760-84bb83eb0379"
      },
      "execution_count": 96,
      "outputs": [
        {
          "output_type": "stream",
          "name": "stdout",
          "text": [
            "layer 2 (      Tanh): mean -0.000000, std 4.249650e-03\n",
            "layer 5 (      Tanh): mean -0.000000, std 4.380565e-03\n",
            "layer 8 (      Tanh): mean -0.000000, std 4.500784e-03\n",
            "layer 11 (      Tanh): mean -0.000000, std 4.449452e-03\n",
            "layer 14 (      Tanh): mean +0.000000, std 4.146504e-03\n"
          ]
        },
        {
          "output_type": "execute_result",
          "data": {
            "text/plain": [
              "Text(0.5, 1.0, 'gradient distribution')"
            ]
          },
          "metadata": {},
          "execution_count": 96
        },
        {
          "output_type": "display_data",
          "data": {
            "text/plain": [
              "<Figure size 1440x288 with 1 Axes>"
            ],
            "image/png": "[encoded data removed]"
          },
          "metadata": {
            "needs_background": "light"
          }
        }
      ]
    },
    {
      "cell_type": "code",
      "source": [
        "# visualize histograms\n",
        "plt.figure(figsize=(20, 4)) # width and height of the plot\n",
        "legends = []\n",
        "for i,p in enumerate(parameters):\n",
        "  t = p.grad\n",
        "  if p.ndim == 2:\n",
        "    print('weight %10s | mean %+f | std %e | grad:data ratio %e' % (tuple(p.shape), t.mean(), t.std(), t.std() / p.std()))\n",
        "    hy, hx = torch.histogram(t, density=True)\n",
        "    plt.plot(hx[:-1].detach(), hy.detach())\n",
        "    legends.append(f'{i} {tuple(p.shape)}')\n",
        "plt.legend(legends)\n",
        "plt.title('weights gradient distribution');"
      ],
      "metadata": {
        "colab": {
          "base_uri": "https://localhost:8080/",
          "height": 405
        },
        "id": "z0PCSZI1sVBu",
        "outputId": "832bb74e-8f3e-4916-e0f6-d8078005ea40"
      },
      "execution_count": 97,
      "outputs": [
        {
          "output_type": "stream",
          "name": "stdout",
          "text": [
            "weight   (44, 10) | mean +0.000000 | std 1.244301e-02 | grad:data ratio 1.248448e-02\n",
            "weight  (30, 100) | mean -0.000435 | std 1.315273e-02 | grad:data ratio 4.820806e-02\n",
            "weight (100, 100) | mean -0.000047 | std 9.099237e-03 | grad:data ratio 5.487243e-02\n",
            "weight (100, 100) | mean -0.000140 | std 9.556308e-03 | grad:data ratio 5.891238e-02\n",
            "weight (100, 100) | mean -0.000076 | std 9.605983e-03 | grad:data ratio 6.076972e-02\n",
            "weight (100, 100) | mean -0.000056 | std 8.926910e-03 | grad:data ratio 5.953401e-02\n",
            "weight  (100, 44) | mean +0.000067 | std 1.139160e-02 | grad:data ratio 6.186265e-02\n"
          ]
        },
        {
          "output_type": "display_data",
          "data": {
            "text/plain": [
              "<Figure size 1440x288 with 1 Axes>"
            ],
            "image/png": "[encoded data removed]"
          },
          "metadata": {
            "needs_background": "light"
          }
        }
      ]
    },
    {
      "cell_type": "code",
      "source": [
        "plt.figure(figsize=(20, 4))\n",
        "legends = []\n",
        "for i,p in enumerate(parameters):\n",
        "  if p.ndim == 2:\n",
        "    plt.plot([ud[j][i] for j in range(len(ud))])\n",
        "    legends.append('param %d' % i)\n",
        "plt.plot([0, len(ud)], [-3, -3], 'k') # these ratios should be ~1e-3, indicate on plot\n",
        "plt.legend(legends);\n"
      ],
      "metadata": {
        "colab": {
          "base_uri": "https://localhost:8080/",
          "height": 265
        },
        "id": "wnF7TZLBsWVj",
        "outputId": "791b74ae-db40-4af7-dc39-9624852ab572"
      },
      "execution_count": 98,
      "outputs": [
        {
          "output_type": "display_data",
          "data": {
            "text/plain": [
              "<Figure size 1440x288 with 1 Axes>"
            ],
            "image/png": "[encoded data removed]"
          },
          "metadata": {
            "needs_background": "light"
          }
        }
      ]
    },
    {
      "cell_type": "code",
      "source": [
        "@torch.no_grad() # this decorator disables gradient tracking\n",
        "def split_loss(split):\n",
        "  x,y = {\n",
        "    'train': (Xtr, Ytr),\n",
        "    'val': (Xdev, Ydev),\n",
        "    'test': (Xte, Yte),\n",
        "  }[split]\n",
        "  emb = C[x] # (N, block_size, n_embd)\n",
        "  x = emb.view(emb.shape[0], -1) # concat into (N, block_size * n_embd)\n",
        "  for layer in layers:\n",
        "    x = layer(x)\n",
        "  loss = F.cross_entropy(x, y)\n",
        "  print(split, loss.item())\n",
        "\n",
        "# put layers into eval mode\n",
        "for layer in layers:\n",
        "  layer.training = False\n",
        "split_loss('train')\n",
        "split_loss('val')"
      ],
      "metadata": {
        "colab": {
          "base_uri": "https://localhost:8080/"
        },
        "id": "2qDFBVoBsXck",
        "outputId": "d0606404-466f-4e32-95d5-cdc3fd7a4b7c"
      },
      "execution_count": 113,
      "outputs": [
        {
          "output_type": "stream",
          "name": "stdout",
          "text": [
            "train 2.635573148727417\n",
            "val 2.652531623840332\n"
          ]
        }
      ]
    },
    {
      "cell_type": "code",
      "source": [
        "# sample from the model\n",
        "g = torch.Generator().manual_seed(2147483647 + 10)\n",
        "\n",
        "for _ in range(200):\n",
        "    \n",
        "    out = []\n",
        "    context = [0] * block_size # initialize with all ...\n",
        "    while True:\n",
        "      # forward pass the neural net\n",
        "      emb = C[torch.tensor([context])] # (1,block_size,n_embd)\n",
        "      x = emb.view(emb.shape[0], -1) # concatenate the vectors\n",
        "      for layer in layers:\n",
        "        x = layer(x)\n",
        "      logits = x\n",
        "      probs = F.softmax(logits, dim=1)\n",
        "      # sample from the distribution\n",
        "      ix = torch.multinomial(probs, num_samples=1, generator=g).item()\n",
        "      # shift the context window and track the samples\n",
        "      context = context[1:] + [ix]\n",
        "      out.append(ix)\n",
        "      # if we sample the special '.' token, break\n",
        "      if ix == 0:\n",
        "        break\n",
        "    \n",
        "    print(''.join(itos[i] for i in out)) # decode and print the generated word"
      ],
      "metadata": {
        "colab": {
          "base_uri": "https://localhost:8080/"
        },
        "id": "J3E7c5ufsYam",
        "outputId": "c33c76a0-407f-474c-ac70-85922a80cc5a"
      },
      "execution_count": 114,
      "outputs": [
        {
          "output_type": "stream",
          "name": "stdout",
          "text": [
            "'ef@\n",
            "orz f_a_'njthaf!or]y) h…ear,ohjels@\n",
            "mj(i.' re pa5e pll@\n",
            ",ecthe pna ta_m!!oman kg tur or nivemangj@\n",
            "ar(_, as’s1!heange!o'4@\n",
            "(k?sgrurrigatms@\n",
            "[:u ylanu@\n",
            "so_an ’gnene: ber!ayqin ]!ror@\n",
            "4tef ’s oustrnk@\n",
            ": suet5veol wainde@\n",
            "5bkginy4r lird [iing kx yo4 spre ss]er corktr@\n",
            "',!a’s …parq@\n",
            "wrj_aslickme!., ths@\n",
            "][]agchin?s:@\n",
            "earq taz szeples@\n",
            "maorseep4sapers@\n",
            "hi1iti(gaka 1ngeat@\n",
            "s5ew@\n",
            "s!oar’ss@\n",
            "]antercigphe: aves: parmane’s 15vendhennel ormaierlex@\n",
            "’( _antint@\n",
            "_efkart, ]:wa) ce,lm,ovembafi[hher@\n",
            "sttveunprakverist@\n",
            "!asera@\n",
            "tmen[ef oen@\n",
            "s]ange@\n",
            "shurf oceas w5aj…?grewa!eme@\n",
            "bi: s[uf muanmec' par… ]pan tonp)) f’s chel.@\n",
            "dqu.@\n",
            ":drvow@\n",
            "daer surxnnginpperoa_le@\n",
            "cfoj ze(ep@\n",
            "sor nesf[ersrumpacep4nyws: sdler4ze’s (al’s ope oyte math.@\n",
            "acbobacrvo5x@\n",
            ") (_ek…aneoblediji u(trgen z@\n",
            "'pity: @\n",
            "ciettecvotir_en@\n",
            "zep@\n",
            "dco(m dor@\n",
            "'@\n",
            "mjasti…owceq shelsyf@\n",
            "bavels@\n",
            "furs@\n",
            "ge?@\n",
            "el@\n",
            "ster@\n",
            "were g'y ’s e.1narkaigy@\n",
            "qo, (t_o@\n",
            "rw@\n",
            "smow(jeress@\n",
            "za1ehtlimper@\n",
            "s o’s rmauy@\n",
            "te@\n",
            "slunf iig[se(y flap,el !a1mathe,?@\n",
            "@\n",
            "'egn?shech.@\n",
            "jzi@\n",
            "iminuf we: carescrehard _pe@\n",
            "tomdar@\n",
            "renstou5ce[tee… fou4vigerq anicfe]!oareceh4s@\n",
            "erine @\n",
            "cado 4d@\n",
            "cune ]ulix@\n",
            "bordec4s@\n",
            "!ow steg?veujiea1l, omp yungen'q g5knvgentreshe1@\n",
            "')gr@\n",
            "l)inylociolbze.@\n",
            "5l[thing :)@\n",
            "noq@\n",
            "pve__kk14s o) onn@\n",
            "c1o,]chelzer@\n",
            ")ight ro@\n",
            "nectjos@\n",
            "l_gs@\n",
            "@\n",
            " ca)r@\n",
            "fo?xctfla’s oha mow4a]…hin5@\n",
            "waw orer[ cxeronppew wany sila_11uan'@\n",
            "f'i@\n",
            "cre.nor ar5@\n",
            "d o: el yswer@\n",
            "se(de@\n",
            "ragre@\n",
            "pho[er or'@\n",
            "zerd bgevtp,ee !eawls)@\n",
            "ward ind yqunbea5@\n",
            "r)u_t4@\n",
            "ervess@\n",
            "cford’s qz wagh@\n",
            "llost u_n: ?mantriplybe(@\n",
            "tehk shint@\n",
            "stre@\n",
            "eittwiigh1[]eopyrifith b,teis@\n",
            "cstelqjj@\n",
            "stit: gea@\n",
            "notsilgs p,(ap…e4ec?in' ao?@\n",
            "remor@\n",
            "gelterice@\n",
            "(a(rvter@\n",
            "ceo!'e d?imarqearmkstr@\n",
            "le: ]am1en(s'@\n",
            "tavel rag4@\n",
            "?cabramavdearapengerj5s(unth@\n",
            "…ornay rhice@\n",
            "hanilxt. ord@\n",
            "th…ega[amlq…eay ycantsid lkemma((erd)lr4sheskerq gxet@\n",
            "ouljpit!@\n",
            ",xoncerdisda…i5@\n",
            ",ongercea…ling a'ti.wan[@\n",
            "rzineeln rlagh@\n",
            "er!aner@\n",
            "hoodth@\n",
            "hhi1s@\n",
            "ibarl@\n",
            "xin@\n",
            "4jie. orvext [fa’cp man: r4en…ine wer: ar!@\n",
            "kente…ord@\n",
            "b4_anr@\n",
            "sb1lx@\n",
            "haip[el? fe'h(evi qy ?ud@\n",
            "sliges aurf5’s qat…@\n",
            "szreu_th 'rd a]jer@\n",
            "ha?t lectoxd waa'b hms@\n",
            "’5ubl.w@\n",
            "mane'jerd ore sx4_ t? rea, mardhazit@\n",
            "r…leop @\n",
            "lagpatr shag t4on, owsta’tw,iel ,xeke5anqter 4goqs@\n",
            "'it @\n",
            "lasfa(t ofer flydf ttee[orn,(aok jinoddvesq…er@\n",
            "thjerersar@\n",
            "ivarait@\n",
            "stsa(g sgr)shenderiictpea@\n",
            "c@\n",
            "s ahast@\n",
            "’sur1!a’d@\n",
            "bpines5e fu?. bhi thaz’s geor@\n",
            "ti? hce y@\n",
            "j…aru4starfoucliaqrduroq leyzir5zagre@\n",
            "coj!]of…a.t wichpma.en gr4okl st(?wanul limj’s@\n",
            "…in(@\n",
            "ingo5r ._@\n",
            "!aniibr(eus@\n",
            "1@\n",
            "forzels@\n",
            "an1xgetola op(e4,erdora’s omsse@\n",
            "smagh@\n",
            "pfor .) s: ?…arb jid5e)@\n",
            ",itfibe@\n",
            "de)…ze…orlsa1ma!leanssshweqe!anto_’s cc_w oh.@\n",
            "_ocp: owi.t'm@\n",
            "nessi(eru…o’s t,in' wler@\n",
            "svo_a tdetcect@\n",
            "magl@\n",
            "n)ne w nbzes db ,e?@\n",
            "verd fzicr@\n",
            "!oqde bors@\n",
            "tare@\n",
            "novito. nge5)@\n",
            "tingke arpore@\n",
            "@\n",
            "motes@\n",
            "waxs@\n",
            "st[oas@\n",
            "@\n",
            "s@\n",
            "trcve@\n",
            ",perd fro, b?b,,ers@\n",
            "foubeust !:ueroatfiestonf smonne@\n",
            "con]aqok!?a@\n",
            "tomere@\n",
            "spea,zi:l@\n",
            "…ar)e’s a_xseraye,la_(z g??(ag]'e@\n",
            "aa)ibr@\n",
            "sigg toresxasqep(e aelo5 nem5nht lns.sf[unintige@\n",
            "bif owdbq_yr@\n",
            "1djioist@\n",
            "5afdinzers)]( injurinew.omgs@\n",
            "lrec4erpetyrainiter kirh1lsiced .pa(gqssier canteranl teracr@\n",
            "]o(4s]orz ge(jer@\n",
            "jisn uh_eant 'jgy qwo.@\n",
            "wa_q?s(deaje sh(?, pxiun: palks@\n",
            ": sew]’s 1ame’' grngur@\n",
            "b nje[k.on5de@\n",
            "gerabrd s(e(di@\n",
            "awlons )o dor@\n",
            "m…izerbe5inicera…es  5ntaressaun jswech@\n",
            "jbvine ’g blaredk@\n",
            "s@\n",
            "d…piighaeqzeeh ’sz@\n",
            "batlifortxn? .n?enferert@\n",
            "rr@\n",
            "[: q’s 'sp@\n",
            "s meod@\n",
            "sxare@\n",
            "yw1lveracr a?i daaite@\n",
            "p4 (’s@\n",
            "iald: dal@\n",
            "thzive hcongexti… aren(@\n",
            "porzois@\n",
            "'hiner s@\n"
          ]
        }
      ]
    },
    {
      "cell_type": "code",
      "source": [
        "# DONE; BONUS content below, not covered in video"
      ],
      "metadata": {
        "id": "Dlpcrq5IsZn5"
      },
      "execution_count": null,
      "outputs": []
    },
    {
      "cell_type": "code",
      "source": [
        "# BatchNorm forward pass as a widget\n",
        "\n",
        "from ipywidgets import interact, interactive, fixed, interact_manual\n",
        "import ipywidgets as widgets\n",
        "import scipy.stats as stats\n",
        "import numpy as np\n",
        "\n",
        "def normshow(x0):\n",
        "  \n",
        "  g = torch.Generator().manual_seed(2147483647+1)\n",
        "  x = torch.randn(5, generator=g) * 5\n",
        "  x[0] = x0 # override the 0th example with the slider\n",
        "  mu = x.mean()\n",
        "  sig = x.std()\n",
        "  y = (x - mu)/sig\n",
        "\n",
        "  plt.figure(figsize=(10, 5))\n",
        "  # plot 0\n",
        "  plt.plot([-6,6], [0,0], 'k')\n",
        "  # plot the mean and std\n",
        "  xx = np.linspace(-6, 6, 100)\n",
        "  plt.plot(xx, stats.norm.pdf(xx, mu, sig), 'b')\n",
        "  xx = np.linspace(-6, 6, 100)\n",
        "  plt.plot(xx, stats.norm.pdf(xx, 0, 1), 'r')\n",
        "  # plot little lines connecting input and output\n",
        "  for i in range(len(x)):\n",
        "    plt.plot([x[i],y[i]], [1, 0], 'k', alpha=0.2)\n",
        "  # plot the input and output values\n",
        "  plt.scatter(x.data, torch.ones_like(x).data, c='b', s=100)\n",
        "  plt.scatter(y.data, torch.zeros_like(y).data, c='r', s=100)\n",
        "  plt.xlim(-6, 6)\n",
        "  # title\n",
        "  plt.title('input mu %.2f std %.2f' % (mu, sig))\n",
        "\n",
        "interact(normshow, x0=(-30,30,0.5));\n"
      ],
      "metadata": {
        "colab": {
          "base_uri": "https://localhost:8080/",
          "height": 368,
          "referenced_widgets": [
            "01b16f72c8e24bf4970afbec903735ae",
            "eeb322ac57694486ab8905a0bbea94b4",
            "c920e4d0a0554025a70ad5b8c3f12953",
            "80bb566448764cd78ef5bc612bd1c594",
            "500874e2f3a34ca9a9e774b7a7816090",
            "437c009fcb4046b68a9427911c44235c",
            "c082c4f6bc1d4cbcae035062a6c2872a"
          ]
        },
        "id": "Ak-nkUivsa6O",
        "outputId": "e1f2de11-fa3e-4c2c-baa2-366ab54e61b5"
      },
      "execution_count": 21,
      "outputs": [
        {
          "output_type": "display_data",
          "data": {
            "text/plain": [
              "interactive(children=(FloatSlider(value=0.0, description='x0', max=30.0, min=-30.0, step=0.5), Output()), _dom…"
            ],
            "application/vnd.jupyter.widget-view+json": {
              "version_major": 2,
              "version_minor": 0,
              "model_id": "01b16f72c8e24bf4970afbec903735ae"
            }
          },
          "metadata": {}
        }
      ]
    },
    {
      "cell_type": "code",
      "source": [
        "# Linear: activation statistics of forward and backward pass\n",
        "\n",
        "g = torch.Generator().manual_seed(2147483647)\n",
        "\n",
        "a = torch.randn((1000,1), requires_grad=True, generator=g)          # a.grad = b.T @ c.grad\n",
        "b = torch.randn((1000,1000), requires_grad=True, generator=g)       # b.grad = c.grad @ a.T\n",
        "c = b @ a\n",
        "loss = torch.randn(1000, generator=g) @ c\n",
        "a.retain_grad()\n",
        "b.retain_grad()\n",
        "c.retain_grad()\n",
        "loss.backward()\n",
        "print('a std:', a.std().item())\n",
        "print('b std:', b.std().item())\n",
        "print('c std:', c.std().item())\n",
        "print('-----')\n",
        "print('c grad std:', c.grad.std().item())\n",
        "print('a grad std:', a.grad.std().item())\n",
        "print('b grad std:', b.grad.std().item())"
      ],
      "metadata": {
        "colab": {
          "base_uri": "https://localhost:8080/"
        },
        "id": "-LzwPjLUscUo",
        "outputId": "93180817-9256-4cdb-bd92-a6de6f66c9c6"
      },
      "execution_count": 22,
      "outputs": [
        {
          "output_type": "stream",
          "name": "stdout",
          "text": [
            "a std: 0.9875972270965576\n",
            "b std: 1.0006722211837769\n",
            "c std: 31.01241683959961\n",
            "-----\n",
            "c grad std: 0.9782556295394897\n",
            "a grad std: 30.8818302154541\n",
            "b grad std: 0.9666601419448853\n"
          ]
        }
      ]
    },
    {
      "cell_type": "code",
      "source": [
        "# Linear + BatchNorm: activation statistics of forward and backward pass\n",
        "\n",
        "g = torch.Generator().manual_seed(2147483647)\n",
        "\n",
        "n = 1000\n",
        "# linear layer ---\n",
        "inp = torch.randn(n, requires_grad=True, generator=g)\n",
        "w = torch.randn((n, n), requires_grad=True, generator=g) # / n**0.5\n",
        "x = w @ inp\n",
        "# bn layer ---\n",
        "xmean = x.mean()\n",
        "xvar = x.var()\n",
        "out = (x - xmean) / torch.sqrt(xvar + 1e-5)\n",
        "# ----\n",
        "loss = out @ torch.randn(n, generator=g)\n",
        "inp.retain_grad()\n",
        "x.retain_grad()\n",
        "w.retain_grad()\n",
        "out.retain_grad()\n",
        "loss.backward()\n",
        "\n",
        "print('inp std: ', inp.std().item())\n",
        "print('w std: ', w.std().item())\n",
        "print('x std: ', x.std().item())\n",
        "print('out std: ', out.std().item())\n",
        "print('------')\n",
        "print('out grad std: ', out.grad.std().item())\n",
        "print('x grad std: ', x.grad.std().item())\n",
        "print('w grad std: ', w.grad.std().item())\n",
        "print('inp grad std: ', inp.grad.std().item())"
      ],
      "metadata": {
        "colab": {
          "base_uri": "https://localhost:8080/"
        },
        "id": "PUTxd4WIsd8i",
        "outputId": "ab66ec77-fbc0-4580-bc37-c48443757948"
      },
      "execution_count": 23,
      "outputs": [
        {
          "output_type": "stream",
          "name": "stdout",
          "text": [
            "inp std:  0.9875972270965576\n",
            "w std:  1.0006722211837769\n",
            "x std:  31.01241683959961\n",
            "out std:  1.0\n",
            "------\n",
            "out grad std:  0.9782556295394897\n",
            "x grad std:  0.031543977558612823\n",
            "w grad std:  0.031169468536973\n",
            "inp grad std:  0.9953053593635559\n"
          ]
        }
      ]
    },
    {
      "cell_type": "code",
      "source": [],
      "metadata": {
        "id": "hr5de3OBsfjy"
      },
      "execution_count": null,
      "outputs": []
    }
  ]
}